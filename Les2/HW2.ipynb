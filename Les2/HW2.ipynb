{
 "cells": [
  {
   "cell_type": "code",
   "execution_count": 282,
   "metadata": {
    "id": "c7NGnJrtiqs_"
   },
   "outputs": [],
   "source": [
    "import numpy as np\n",
    "from sklearn import datasets\n",
    "import matplotlib.pyplot as plt\n",
    "\n",
    "%matplotlib inline"
   ]
  },
  {
   "cell_type": "code",
   "execution_count": 283,
   "metadata": {
    "colab": {},
    "colab_type": "code",
    "id": "_n6il-AZaLuA"
   },
   "outputs": [],
   "source": [
    "X = np.array([[   1,    1,  500,    1],\n",
    "              [   1,    1,  700,    1],\n",
    "              [   1,    2,  750,    2],\n",
    "              [   1,    5,  600,    1],\n",
    "              [   1,    3, 1450,    2],\n",
    "              [   1,    0,  800,    1],\n",
    "              [   1,    5, 1500,    3],\n",
    "              [   1,   10, 2000,    3],\n",
    "              [   1,    1,  450,    1],\n",
    "              [   1,    2, 1000,    2]])"
   ]
  },
  {
   "cell_type": "code",
   "execution_count": 284,
   "metadata": {
    "colab": {},
    "colab_type": "code",
    "id": "x8yoci01ni-t"
   },
   "outputs": [],
   "source": [
    "y = [45, 55, 50, 55, 60, 35, 75, 80, 50, 60]"
   ]
  },
  {
   "cell_type": "code",
   "execution_count": 285,
   "metadata": {},
   "outputs": [],
   "source": [
    "def min_max_scale(X):\n",
    "    return (X - X.min()) / (X.max() - X.min())"
   ]
  },
  {
   "cell_type": "code",
   "execution_count": 286,
   "metadata": {
    "colab": {
     "base_uri": "https://localhost:8080/",
     "height": 121
    },
    "colab_type": "code",
    "id": "E55S9Bzob9Xa",
    "outputId": "4abf56a2-d484-4c24-8520-8ed1b58ccca8"
   },
   "outputs": [],
   "source": [
    "X_norm = X.copy()\n",
    "X_norm = X_norm.astype(np.float64)"
   ]
  },
  {
   "cell_type": "code",
   "execution_count": 287,
   "metadata": {
    "colab": {
     "base_uri": "https://localhost:8080/",
     "height": 121
    },
    "colab_type": "code",
    "id": "7x-6IuPOcIo0",
    "outputId": "1668fec7-37ae-4671-ad9f-f093c30a6c72"
   },
   "outputs": [],
   "source": [
    "X_norm[:, 1] = min_max_scale(X_norm[:, 1])\n",
    "X_norm[:, 2] = min_max_scale(X_norm[:, 2])\n",
    "X_norm[:, 3] = min_max_scale(X_norm[:, 3])"
   ]
  },
  {
   "cell_type": "code",
   "execution_count": 288,
   "metadata": {},
   "outputs": [],
   "source": [
    "def standard_scale(X):\n",
    "    mean = X.mean()\n",
    "    std = X.std()\n",
    "    return (X - mean) / std"
   ]
  },
  {
   "cell_type": "code",
   "execution_count": 289,
   "metadata": {
    "colab": {},
    "colab_type": "code",
    "id": "M57-Pzl_f_rF"
   },
   "outputs": [],
   "source": [
    "X_st = X.copy().astype(np.float64)\n",
    "X_st[:, 1] = standard_scale(X_st[:, 1])\n",
    "X_st[:, 2] = standard_scale(X_st[:, 2])\n",
    "X_st[:, 3] = standard_scale(X_st[:, 3])"
   ]
  },
  {
   "cell_type": "code",
   "execution_count": 290,
   "metadata": {
    "colab": {},
    "colab_type": "code",
    "id": "VDpN7UxYnrcS"
   },
   "outputs": [],
   "source": [
    "def calc_mse(y, y_pred):\n",
    "    err = np.mean((y - y_pred)**2)\n",
    "    return err"
   ]
  },
  {
   "cell_type": "markdown",
   "metadata": {},
   "source": [
    "## Домашнее задание <a class='anchor' id='hw'>"
   ]
  },
  {
   "cell_type": "markdown",
   "metadata": {},
   "source": [
    "1. Постройте график зависимости весов всех признаков от lambda в самописной L2-регуляризации (на данных про ЕГЭ). Сделайте вывод"
   ]
  },
  {
   "cell_type": "markdown",
   "metadata": {
    "colab": {},
    "colab_type": "code",
    "id": "j38vId7Hvtg0"
   },
   "source": [
    "##### L2 регуляризация"
   ]
  },
  {
   "cell_type": "markdown",
   "metadata": {},
   "source": [
    "$$Q(w, X) + \\lambda ||w||^{2} \\rightarrow \\underset{w}{\\text{min}}.$$\n",
    "\n",
    "<center>Производная</center>\n",
    "\n",
    "$$d\\lambda ||w||^{2} = 2\\lambda w $$"
   ]
  },
  {
   "cell_type": "code",
   "execution_count": 291,
   "metadata": {},
   "outputs": [],
   "source": [
    "alpha_list = [1e-10, 1e-5, 1e-4, 1e-3, 1e-2, 1e-1, 1, 5, 10]\n",
    "coeffs = np.zeros((len(alpha_list), X_st.shape[1]))"
   ]
  },
  {
   "cell_type": "code",
   "execution_count": 292,
   "metadata": {
    "colab": {},
    "colab_type": "code",
    "id": "7AVoe1Mswjni"
   },
   "outputs": [],
   "source": [
    "def gradient_descent_reg_l2(X, y, iterations, eta=1e-4, reg=1e-8):\n",
    "    W = np.random.randn(X.shape[1])\n",
    "    n = X.shape[0]\n",
    "    \n",
    "    for i in range(0, iterations):\n",
    "        y_pred = np.dot(X, W)\n",
    "        err = calc_mse(y, y_pred)\n",
    "        \n",
    "        dQ = 2/n * X.T @ (y_pred - y) # градиент функции ошибки\n",
    "        dReg = reg * W # градиент регуляризации\n",
    "        \n",
    "        W -= eta * (dQ + dReg)\n",
    "        \n",
    "\n",
    "    \n",
    "#         if i % (iterations / 10) == 0:\n",
    "#             print(f'Iter: {i}, weights: {W}, error {err}')\n",
    "    print(f'Final MSE: {calc_mse(y, np.dot(X, W))}')\n",
    "    return W\n"
   ]
  },
  {
   "cell_type": "code",
   "execution_count": 293,
   "metadata": {
    "colab": {
     "base_uri": "https://localhost:8080/",
     "height": 207
    },
    "colab_type": "code",
    "id": "vLJL6j8Lw6OA",
    "outputId": "dac9ef42-5966-4404-9346-aeb18cca83c6"
   },
   "outputs": [
    {
     "name": "stdout",
     "output_type": "stream",
     "text": [
      "Final MSE: 24.904618876908383\n",
      "Final MSE: 24.904618964619765\n",
      "Final MSE: 24.904627646688823\n",
      "Final MSE: 24.90549450305077\n",
      "Final MSE: 24.990877722019317\n",
      "Final MSE: 32.53248822789761\n",
      "Final MSE: 385.46327882920286\n",
      "Final MSE: 1688.7042658257644\n",
      "Final MSE: 2302.3365023435517\n"
     ]
    }
   ],
   "source": [
    "for i in range(len(alpha_list)):\n",
    "    coeffs[i,:] = gradient_descent_reg_l2(X_st, y, iterations=5000, eta=1e-1, reg=alpha_list[i])\n",
    "    "
   ]
  },
  {
   "cell_type": "code",
   "execution_count": 294,
   "metadata": {},
   "outputs": [
    {
     "data": {
      "text/plain": [
       "array([[56.5       ,  6.30309349, -0.35638885,  6.57147642],\n",
       "       [56.4997175 ,  6.30301871, -0.35618766,  6.57131844],\n",
       "       [56.49717514,  6.30234588, -0.35437787,  6.5698973 ],\n",
       "       [56.47176412,  6.29563963, -0.33636842,  6.55575571],\n",
       "       [56.21890547,  6.23069221, -0.16470894,  6.42099175],\n",
       "       [53.80952381,  5.73058923,  0.98368247,  5.51609991],\n",
       "       [37.66666667,  4.01145689,  2.67324854,  3.68757438],\n",
       "       [16.14285714,  2.20254737,  1.94476797,  2.14020792],\n",
       "       [ 9.41666667,  1.44984507,  1.33835494,  1.42938586]])"
      ]
     },
     "execution_count": 294,
     "metadata": {},
     "output_type": "execute_result"
    }
   ],
   "source": [
    "coeffs"
   ]
  },
  {
   "cell_type": "code",
   "execution_count": 295,
   "metadata": {
    "colab": {
     "base_uri": "https://localhost:8080/",
     "height": 207
    },
    "colab_type": "code",
    "id": "4nsYMAGjmFlB",
    "outputId": "8959a8af-3d27-42a6-afae-5db46c794fe1"
   },
   "outputs": [
    {
     "data": {
      "image/png": "[encoded data removed]",
      "text/plain": [
       "<Figure size 432x288 with 1 Axes>"
      ]
     },
     "metadata": {
      "needs_background": "light"
     },
     "output_type": "display_data"
    }
   ],
   "source": [
    "for i in range(coeffs.shape[1]):\n",
    "    plt.plot(alpha_list, coeffs[:,i])\n",
    "\n",
    "    \n",
    "plt.title('Изменение весов признаков\\n при увеличении коэффициента регуляризации Lambda)')\n",
    "plt.xlabel('Lambda')\n",
    "plt.ylabel('Вес признака');"
   ]
  },
  {
   "cell_type": "code",
   "execution_count": 296,
   "metadata": {},
   "outputs": [
    {
     "data": {
      "image/png": "[encoded data removed]",
      "text/plain": [
       "<Figure size 432x288 with 1 Axes>"
      ]
     },
     "metadata": {
      "needs_background": "light"
     },
     "output_type": "display_data"
    }
   ],
   "source": [
    "for i in range(1,coeffs.shape[1]):\n",
    "    plt.plot(alpha_list, coeffs[:,i])\n",
    "\n",
    "    \n",
    "plt.title('Изменение весов признаков (кроме сдвига)\\n при увеличении коэффициента регуляризации Lambda)')\n",
    "plt.xlabel('Lambda')\n",
    "plt.ylabel('Вес признака');"
   ]
  },
  {
   "cell_type": "markdown",
   "metadata": {},
   "source": [
    "**Вывод:** чем больше коэфф.регуляризации, тем меньше весов модель даёт признакам, т.к. слишком высокий штраф накладываем"
   ]
  },
  {
   "cell_type": "markdown",
   "metadata": {},
   "source": [
    "2. Напишите функцию наподобие gradient_descent_reg_l2, но для применения L1-регуляризации."
   ]
  },
  {
   "cell_type": "markdown",
   "metadata": {
    "colab": {},
    "colab_type": "code",
    "id": "DYTxT_6OrZpe"
   },
   "source": [
    "##### L1 регуляризация"
   ]
  },
  {
   "cell_type": "markdown",
   "metadata": {
    "colab": {},
    "colab_type": "code",
    "id": "Ojkn7xKrsyiw"
   },
   "source": [
    "$$Q(w, X) + \\lambda |w| \\rightarrow \\underset{w}{\\text{min}}.$$\n",
    "Про производную можно посмотреть [здесь](https://youtu.be/dHhYHGI9E6I)."
   ]
  },
  {
   "cell_type": "code",
   "execution_count": 297,
   "metadata": {},
   "outputs": [],
   "source": [
    "def gradient_descent_reg_l1(X, y, iterations, eta=1e-4, reg=1e-8):\n",
    "    W = np.random.randn(X.shape[1])\n",
    "    n = X.shape[0]\n",
    "    \n",
    "    for i in range(0, iterations):\n",
    "        y_pred = np.dot(X, W)\n",
    "        err = calc_mse(y, y_pred)\n",
    "        \n",
    "        dQ = 2/n * X.T @ (y_pred - y) # градиент функции ошибки\n",
    "        dReg = reg * (W / abs(W)) # градиент регуляризации - производная от сложной ф-ции с модулем; reg - коэфф, скобки - производная от модуля\n",
    "        \n",
    "        W -= eta * (dQ + dReg)\n",
    "        \n",
    "\n",
    "    \n",
    "        if i % (iterations / 10) == 0:\n",
    "            print(f'Iter: {i}, weights: {W}, error {err}')\n",
    "    print(f'Final MSE: {calc_mse(y, np.dot(X, W))}')\n",
    "    return W"
   ]
  },
  {
   "cell_type": "code",
   "execution_count": 298,
   "metadata": {},
   "outputs": [
    {
     "name": "stdout",
     "output_type": "stream",
     "text": [
      "Iter: 0, weights: [11.64422369  2.20487465  1.78255109  2.38291308], error 3305.7832267044405\n",
      "Iter: 30, weights: [56.4444213   5.659142    1.72814133  5.0530098 ], error 25.678683040312222\n",
      "Iter: 60, weights: [56.49988126  6.0421788   0.73932442  5.6993716 ], error 25.120931147359567\n",
      "Iter: 90, weights: [56.49994991  6.1762947   0.22943171  6.0930818 ], error 24.967192838494178\n",
      "Iter: 120, weights: [ 5.64999500e+01  6.23696789e+00 -4.14909665e-02  6.31239843e+00], error 24.92277140550915\n",
      "Iter: 150, weights: [56.49995     6.2677173  -0.18661719  6.43153006], error 24.90990067866411\n",
      "Iter: 180, weights: [56.49995     6.28399991 -0.26469344  6.49586891], error 24.906159781192915\n",
      "Iter: 210, weights: [56.49995     6.29272503 -0.30673055  6.53054932], error 24.905070603717302\n",
      "Iter: 240, weights: [56.49995     6.29741716 -0.32936908  6.54923234], error 24.904752488783465\n",
      "Iter: 270, weights: [56.49995     6.29994316 -0.34156162  6.55929555], error 24.904659042966898\n",
      "Final MSE: 24.904631307588836\n"
     ]
    },
    {
     "data": {
      "text/plain": [
       "array([56.49995   ,  6.30127037, -0.34796859,  6.56458375])"
      ]
     },
     "execution_count": 298,
     "metadata": {},
     "output_type": "execute_result"
    }
   ],
   "source": [
    "gradient_descent_reg_l1(X_st, y, iterations=300, eta=1e-1, reg=1e-4)"
   ]
  },
  {
   "cell_type": "markdown",
   "metadata": {},
   "source": [
    "3. *Можно ли к одному и тому же признаку применить сразу и нормализацию, и стандартизацию?"
   ]
  },
  {
   "cell_type": "markdown",
   "metadata": {},
   "source": [
    "**??? Затрудняюсь ответить**"
   ]
  },
  {
   "cell_type": "markdown",
   "metadata": {
    "id": "osNM_LLkiqu6"
   },
   "source": [
    "4. *Сгенерируйте датасет при помощи <code>sklearn.datasets.make_regression</code> и обучите линейную модель при помощи градиентного и стохастического градиентного спуска. Нанесите среднеквадратичную ошибку для обоих методов на один график, сделайте выводы о разнице скорости сходимости каждого из методов."
   ]
  },
  {
   "cell_type": "code",
   "execution_count": 311,
   "metadata": {},
   "outputs": [],
   "source": [
    "X, y, coeff = datasets.make_regression(n_samples=10000, n_features=2, n_informative=2,\n",
    "                                       n_targets=1, noise=5, coef=True,random_state=26)"
   ]
  },
  {
   "cell_type": "code",
   "execution_count": 312,
   "metadata": {},
   "outputs": [
    {
     "data": {
      "image/png": "[encoded data removed]",
      "text/plain": [
       "<Figure size 720x360 with 1 Axes>"
      ]
     },
     "metadata": {
      "needs_background": "light"
     },
     "output_type": "display_data"
    }
   ],
   "source": [
    "fig = plt.figure(figsize=(10,5))\n",
    "ax = fig.add_subplot(111, projection='3d')\n",
    "ax.scatter(X[:,0], X[:,1], y);"
   ]
  },
  {
   "cell_type": "code",
   "execution_count": 313,
   "metadata": {},
   "outputs": [
    {
     "name": "stdout",
     "output_type": "stream",
     "text": [
      "Iter 0: error - 4932.506383288801, weights: [0.97848755 1.00765286]\n",
      "Iter 25: error - 1874.2463613859043, weights: [20.15803701 20.73660947]\n",
      "Iter 50: error - 721.8019469354833, weights: [31.94572584 32.83386316]\n",
      "Iter 75: error - 287.52391849775, weights: [39.19022069 40.25174189]\n",
      "Iter 100: error - 123.87319732641632, weights: [43.6424445  44.80039426]\n",
      "Iter 125: error - 62.2037445808853, weights: [46.37856704 47.589697  ]\n",
      "Iter 150: error - 38.964378160373876, weights: [48.06001728 49.30017804]\n",
      "Iter 175: error - 30.206872889323545, weights: [49.09330826 50.34911743]\n",
      "Iter 200: error - 26.98613499222848, weights: [49.70836799 50.97223823]\n"
     ]
    }
   ],
   "source": [
    "w = np.zeros(X.shape[1])\n",
    "w_list = [w.copy()]\n",
    "err = []\n",
    "eta = 0.01\n",
    "max_iter = 200\n",
    "min_weight_diff = 1e-3\n",
    "weight_diff = np.inf\n",
    "iteration = 0\n",
    "np.random.seed(26)\n",
    "while iteration < max_iter:\n",
    "    y_pred = np.dot(X, w)\n",
    "    dQ = 2/y.shape[0]*np.dot(X.T, y_pred-y)\n",
    "    new_w = w - eta*dQ\n",
    "    weight_diff = np.linalg.norm(new_w - w, ord=2)\n",
    "    error = calc_mse(X.dot(new_w), y)\n",
    "    w_list.append(new_w.copy())\n",
    "    err.append(error)\n",
    "    if iteration%25 == 0:\n",
    "        print(f'Iter {iteration}: error - {error}, weights: {new_w}')\n",
    "    \n",
    "    iteration +=1\n",
    "    w = new_w\n",
    "print(f'Iter {iteration}: error - {error}, weights: {new_w}')"
   ]
  },
  {
   "cell_type": "code",
   "execution_count": 314,
   "metadata": {},
   "outputs": [
    {
     "name": "stdout",
     "output_type": "stream",
     "text": [
      "Iter 0: error - 4753.352659410936, weights: [0.60359301 3.23624643]\n",
      "Iter 25: error - 1771.0435283548056, weights: [20.78350434 21.85748603]\n",
      "Iter 50: error - 475.0690881832608, weights: [38.64191984 34.16866971]\n",
      "Iter 75: error - 230.66690669084844, weights: [44.11480408 39.05405122]\n",
      "Iter 100: error - 84.22180379216191, weights: [45.20956099 46.4645374 ]\n",
      "Iter 125: error - 41.918987247082704, weights: [47.14743921 49.85380078]\n",
      "Iter 150: error - 29.352165541516396, weights: [48.87170931 50.96690083]\n",
      "Iter 175: error - 28.852514066292102, weights: [48.78366611 51.55649427]\n",
      "Iter 200: error - 27.122332343493753, weights: [49.25823845 51.76193962]\n"
     ]
    }
   ],
   "source": [
    "w = np.zeros(X.shape[1])\n",
    "w_list_s = [w.copy()]\n",
    "err_s = []\n",
    "iteration = 0\n",
    "np.random.seed(26)\n",
    "while iteration < max_iter:\n",
    "    ind = np.random.randint(X.shape[0], size=1)\n",
    "    y_pred = np.dot(X[ind], w)\n",
    "    dQ = 2/y[ind].shape[0]*np.dot(X[ind].T, y_pred-y[ind])\n",
    "    new_w = w - eta*dQ\n",
    "    weight_diff = np.linalg.norm(new_w - w, ord=2)\n",
    "    error = calc_mse(X.dot(new_w), y)\n",
    "    w_list_s.append(new_w.copy())\n",
    "    err_s.append(error)\n",
    "    if iteration%25 == 0:\n",
    "        print(f'Iter {iteration}: error - {error}, weights: {new_w}')\n",
    "    \n",
    "    iteration +=1\n",
    "    w = new_w\n",
    "print(f'Iter {iteration}: error - {error}, weights: {new_w}')"
   ]
  },
  {
   "cell_type": "code",
   "execution_count": 315,
   "metadata": {},
   "outputs": [
    {
     "data": {
      "image/png": "[encoded data removed]",
      "text/plain": [
       "<Figure size 432x288 with 1 Axes>"
      ]
     },
     "metadata": {
      "needs_background": "light"
     },
     "output_type": "display_data"
    }
   ],
   "source": [
    "plt.figure(1)\n",
    "plt.plot(err, label='Gradient')\n",
    "\n",
    "plt.plot(err_s, label = 'Stochastic')\n",
    "plt.legend();"
   ]
  },
  {
   "cell_type": "markdown",
   "metadata": {},
   "source": [
    "**Разница в скорости сходимости незначительная (к 75 итерации ошибка примерно одинаковая), при этом стохастический ГС работает быстрее, т.к. мы обрабатываем только один объект за одну итерацию, а не все, как при градиентном**"
   ]
  },
  {
   "cell_type": "markdown",
   "metadata": {},
   "source": [
    "Проект*: \n",
    "1. https://www.kaggle.com/c/gb-tutors-expected-math-exam-results регрессия\n",
    "1. https://www.kaggle.com/c/gb-choose-tutors классификация"
   ]
  },
  {
   "cell_type": "markdown",
   "metadata": {
    "id": "esNMM7hXiqu4"
   },
   "source": [
    "## Литература"
   ]
  },
  {
   "cell_type": "markdown",
   "metadata": {
    "id": "vPQPnl--iqu4"
   },
   "source": [
    "1. [Стохастический градиентный спуск](http://www.machinelearning.ru/wiki/index.php?title=%D0%A1%D1%82%D0%BE%D1%85%D0%B0%D1%81%D1%82%D0%B8%D1%87%D0%B5%D1%81%D0%BA%D0%B8%D0%B9_%D0%B3%D1%80%D0%B0%D0%B4%D0%B8%D0%B5%D0%BD%D1%82%D0%BD%D1%8B%D0%B9_%D1%81%D0%BF%D1%83%D1%81%D0%BA)\n",
    "2. [sklearn.datasets.make_regression](https://scikit-learn.org/stable/modules/generated/sklearn.datasets.make_regression.html)\n",
    "3. [numpy.mean](https://docs.scipy.org/doc/numpy-1.14.0/reference/generated/numpy.mean.html)\n",
    "4. [sklearn.linear_model.LinearRegression](https://scikit-learn.org/stable/modules/generated/sklearn.linear_model.LinearRegression.html)\n",
    "5. [sklearn.preprocessing.PolynomialFeatures](https://scikit-learn.org/stable/modules/generated/sklearn.preprocessing.PolynomialFeatures.html)\n",
    "6. [sklearn.pipeline.make_pipeline](https://scikit-learn.org/stable/modules/generated/sklearn.pipeline.make_pipeline.html)\n",
    "7. [Переобучение и Недообучение. Видео](https://youtu.be/m7P7bnLxIc4)"
   ]
  }
 ],
 "metadata": {
  "colab": {
   "collapsed_sections": [
    "Ws1-N-_Qiqus",
    "Lq5zA2Itiqu3"
   ],
   "name": "Lesson_2.ipynb",
   "provenance": []
  },
  "kernelspec": {
   "display_name": "Python 3 (ipykernel)",
   "language": "python",
   "name": "python3"
  },
  "language_info": {
   "codemirror_mode": {
    "name": "ipython",
    "version": 3
   },
   "file_extension": ".py",
   "mimetype": "text/x-python",
   "name": "python",
   "nbconvert_exporter": "python",
   "pygments_lexer": "ipython3",
   "version": "3.9.6"
  }
 },
 "nbformat": 4,
 "nbformat_minor": 1
}
