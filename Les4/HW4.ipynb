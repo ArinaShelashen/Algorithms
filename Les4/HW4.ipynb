{
 "cells": [
  {
   "cell_type": "code",
   "execution_count": 143,
   "metadata": {
    "id": "u7Xi827dabXb"
   },
   "outputs": [],
   "source": [
    "import matplotlib.pyplot as plt\n",
    "import random\n",
    "\n",
    "\n",
    "from matplotlib.colors import ListedColormap\n",
    "from sklearn.datasets import make_classification, make_regression\n",
    "\n",
    "from sklearn.tree import DecisionTreeClassifier, DecisionTreeRegressor, plot_tree\n",
    "from sklearn.metrics import accuracy_score\n",
    "\n",
    "import numpy as np\n",
    "import pandas as pd\n",
    "\n",
    "import warnings\n",
    "warnings.filterwarnings('ignore')"
   ]
  },
  {
   "cell_type": "markdown",
   "metadata": {},
   "source": [
    "**Реализуем критерий информативности среднеквадратичного отклонения**"
   ]
  },
  {
   "cell_type": "code",
   "execution_count": 144,
   "metadata": {
    "id": "6FZaieu8abXe"
   },
   "outputs": [],
   "source": [
    "# сгенерируем данные\n",
    "classification_data, classification_labels = make_classification(n_samples=1000, n_features=2, n_informative=2, \n",
    "                                                                 n_classes=2, n_redundant=0,\n",
    "                                                                 n_clusters_per_class=1, random_state=5)"
   ]
  },
  {
   "cell_type": "code",
   "execution_count": 145,
   "metadata": {
    "id": "Duu45IJUabXi"
   },
   "outputs": [],
   "source": [
    "# Реализуем класс узла\n",
    "\n",
    "class Node:\n",
    "    \n",
    "    def __init__(self, index, t, true_branch, false_branch):\n",
    "        self.index = index  # индекс признака, по которому ведется сравнение с порогом в этом узле\n",
    "        self.t = t  # значение порога\n",
    "        self.true_branch = true_branch  # поддерево, удовлетворяющее условию в узле\n",
    "        self.false_branch = false_branch  # поддерево, не удовлетворяющее условию в узле\n"
   ]
  },
  {
   "cell_type": "code",
   "execution_count": 146,
   "metadata": {
    "id": "QY8oNtakabXl"
   },
   "outputs": [],
   "source": [
    "# И класс терминального узла (листа)\n",
    "\n",
    "class Leaf:\n",
    "    \n",
    "    def __init__(self, data, labels):\n",
    "        self.data = data\n",
    "        self.labels = labels\n",
    "        self.prediction = self.predict()\n",
    "        \n",
    "    def predict(self):\n",
    "        # подсчет количества объектов разных классов\n",
    "        classes = {}  # сформируем словарь \"класс: количество объектов\"\n",
    "        for label in self.labels:\n",
    "            if label not in classes:\n",
    "                classes[label] = 0\n",
    "            classes[label] += 1\n",
    "            \n",
    "        # найдем класс, количество объектов которого будет максимальным в этом листе и вернем его    \n",
    "        prediction = max(classes, key=classes.get)\n",
    "        return prediction        "
   ]
  },
  {
   "cell_type": "code",
   "execution_count": 147,
   "metadata": {
    "id": "uBdli3WDabXn"
   },
   "outputs": [],
   "source": [
    "# Расчет критерия Джини\n",
    "\n",
    "def gini(labels):\n",
    "    #  подсчет количества объектов разных классов\n",
    "    classes = {}\n",
    "    for label in labels:\n",
    "        if label not in classes:\n",
    "            classes[label] = 0\n",
    "        classes[label] += 1\n",
    "    \n",
    "    #  расчет критерия\n",
    "    impurity = 1\n",
    "    for label in classes:\n",
    "        p = classes[label] / len(labels)\n",
    "        impurity -= p ** 2\n",
    "        \n",
    "    return impurity"
   ]
  },
  {
   "cell_type": "code",
   "execution_count": 148,
   "metadata": {
    "id": "9vvLDhuRabXr"
   },
   "outputs": [],
   "source": [
    "# Расчет прироста\n",
    "\n",
    "def gain(left_labels, right_labels, root_gini):\n",
    "\n",
    "    # доля выборки, ушедшая в левое поддерево\n",
    "    p = float(left_labels.shape[0]) / (left_labels.shape[0] + right_labels.shape[0])\n",
    "    \n",
    "    return root_gini - p * gini(left_labels) - (1 - p) * gini(right_labels)"
   ]
  },
  {
   "cell_type": "code",
   "execution_count": 149,
   "metadata": {
    "id": "nhWkphi3abXt"
   },
   "outputs": [],
   "source": [
    "# Разбиение датасета в узле\n",
    "\n",
    "def split(data, labels, column_index, t):\n",
    "    \n",
    "    left = np.where(data[:, column_index] <= t)\n",
    "    right = np.where(data[:, column_index] > t)\n",
    "        \n",
    "    true_data = data[left]\n",
    "    false_data = data[right]\n",
    "    \n",
    "    true_labels = labels[left]\n",
    "    false_labels = labels[right]\n",
    "        \n",
    "    return true_data, false_data, true_labels, false_labels"
   ]
  },
  {
   "cell_type": "markdown",
   "metadata": {},
   "source": [
    "## Домашнее задание"
   ]
  },
  {
   "cell_type": "markdown",
   "metadata": {},
   "source": [
    "1. В коде из методички реализуйте один или несколько из критериев останова (количество листьев, количество используемых признаков, глубина дерева и т.д.)\n",
    "**Внесла min_samples_leaf как аргумент который можно варьировать; <br>\n",
    "Попыталась добавить параметр \"Кол-во листьев\". Получилось так себе, по-моему. Запуталась сама не понимаю где (см.ф-цию build_tree)**"
   ]
  },
  {
   "cell_type": "code",
   "execution_count": 150,
   "metadata": {
    "id": "5wi8Fbs_abXw"
   },
   "outputs": [],
   "source": [
    "# Нахождение наилучшего разбиения\n",
    "\n",
    "def find_best_split(data, labels, min_samples_leaf):\n",
    "    \n",
    "    #  обозначим минимальное количество объектов в узле\n",
    "#     min_samples_leaf = 3\n",
    "\n",
    "    root_gini = gini(labels)\n",
    "\n",
    "    best_gain = 0\n",
    "    best_t = None\n",
    "    best_index = None\n",
    "    \n",
    "    n_features = data.shape[1]\n",
    "    \n",
    "    for index in range(n_features):\n",
    "        # будем проверять только уникальные значения признака, исключая повторения\n",
    "        t_values = np.unique(data[:, index])\n",
    "        \n",
    "        for t in t_values:\n",
    "            true_data, false_data, true_labels, false_labels = split(data, labels, index, t)\n",
    "            #  пропускаем разбиения, в которых в узле остается менее 5 объектов\n",
    "            if len(true_data) < min_samples_leaf or len(false_data) < min_samples_leaf:\n",
    "                continue\n",
    "            \n",
    "            \n",
    "            current_gain = gain(true_labels, false_labels, root_gini)\n",
    "            \n",
    "            #  выбираем порог, на котором получается максимальный прирост качества\n",
    "            if current_gain > best_gain:\n",
    "                best_gain, best_t, best_index = current_gain, t, index\n",
    "\n",
    "    return best_gain, best_t, best_index"
   ]
  },
  {
   "cell_type": "code",
   "execution_count": 151,
   "metadata": {
    "id": "f1__qSXSabXy"
   },
   "outputs": [],
   "source": [
    "num_leafs = 0\n",
    "# Построение дерева с помощью рекурсивной функции; по дефолту - 2 листа\n",
    "\n",
    "def build_tree(data, labels, min_samples_leaf=1, max_num_leafs=np.inf, n_leafs=0, level=0, max_depth=np.inf):\n",
    "    \n",
    "    if max_num_leafs < 2:\n",
    "        max_num_leafs = 2\n",
    "     \n",
    "    gain, t, index = find_best_split(data, labels, min_samples_leaf)\n",
    "    \n",
    "        \n",
    "    #  Базовый случай - прекращаем рекурсию, когда нет прироста в качества ИЛИ\n",
    "    # кол-во листьев превышает максимально допустимое ИЛИ глубина максимальная\n",
    "    if gain == 0 or n_leafs+1 >= max_num_leafs or level== max_depth:\n",
    "        return Leaf(data, labels)\n",
    "    \n",
    "\n",
    "    true_data, false_data, true_labels, false_labels = split(data, labels, index, t)\n",
    "    level+=1\n",
    "    # Рекурсивно строим два поддерева\n",
    "    n_leafs+=1\n",
    "    true_branch = build_tree(true_data, true_labels, min_samples_leaf=min_samples_leaf, \n",
    "                             max_num_leafs=max_num_leafs, n_leafs=n_leafs, level=level, max_depth=max_depth)\n",
    "    n_leafs+=1\n",
    "    false_branch = build_tree(false_data, false_labels, min_samples_leaf=min_samples_leaf, \n",
    "                             max_num_leafs=max_num_leafs, n_leafs=n_leafs,level=level, max_depth=max_depth)\n",
    "    \n",
    "#   добавляем два листа и смотрим, можем ли строить false_branch    \n",
    "#    если уже нельзя, возвращаем лист; иначе строим false_branch\n",
    "#     if n_leafs >= max_num_leafs:\n",
    "#         return Leaf(false_data, false_labels)\n",
    "#     else:\n",
    "#         n_leafs+=1\n",
    "#         false_branch = build_tree(false_data, false_labels, min_samples_leaf=min_samples_leaf, \n",
    "#                              max_num_leafs=max_num_leafs, n_leafs=n_leafs)\n",
    "\n",
    "\n",
    "\n",
    "    # Возвращаем класс узла со всеми поддеревьями, то есть целого дерева\n",
    "    return Node(index, t, true_branch, false_branch)"
   ]
  },
  {
   "cell_type": "code",
   "execution_count": 152,
   "metadata": {
    "id": "F7ruKazCabX3"
   },
   "outputs": [],
   "source": [
    "def classify_object(obj, node):\n",
    "\n",
    "    #  Останавливаем рекурсию, если достигли листа\n",
    "    if isinstance(node, Leaf):\n",
    "        answer = node.prediction\n",
    "        return answer\n",
    "\n",
    "    if obj[node.index] <= node.t:\n",
    "        return classify_object(obj, node.true_branch)\n",
    "    else:\n",
    "        return classify_object(obj, node.false_branch)"
   ]
  },
  {
   "cell_type": "code",
   "execution_count": 153,
   "metadata": {
    "id": "SLOdTAqdabX7"
   },
   "outputs": [],
   "source": [
    "def predict(data, tree):\n",
    "    \n",
    "    classes = []\n",
    "    for obj in data:\n",
    "        prediction = classify_object(obj, tree)\n",
    "        classes.append(prediction)\n",
    "    return classes"
   ]
  },
  {
   "cell_type": "code",
   "execution_count": 154,
   "metadata": {
    "id": "wnDPkwVJabYA"
   },
   "outputs": [],
   "source": [
    "# Разобьем выборку на обучающую и тестовую\n",
    "\n",
    "from sklearn.model_selection import train_test_split\n",
    "\n",
    "train_data, test_data, train_labels, test_labels = train_test_split(classification_data, \n",
    "                                                                    classification_labels, \n",
    "                                                                    test_size=0.3,\n",
    "                                                                    random_state=26)"
   ]
  },
  {
   "cell_type": "code",
   "execution_count": 155,
   "metadata": {
    "id": "UbbvkqvOabYD"
   },
   "outputs": [],
   "source": [
    "# Построим дерево по обучающей выборке\n",
    "my_tree = build_tree(train_data, train_labels, min_samples_leaf=3, max_num_leafs=10, max_depth = 4)"
   ]
  },
  {
   "cell_type": "code",
   "execution_count": 156,
   "metadata": {
    "colab": {
     "base_uri": "https://localhost:8080/",
     "height": 311
    },
    "id": "GF1rVs9VabYG",
    "outputId": "2f7d40ba-e20d-4b45-c7c5-9d4d15cba329"
   },
   "outputs": [
    {
     "name": "stdout",
     "output_type": "stream",
     "text": [
      "Индекс 0 <= -0.009400177353910522\n",
      "--> True:\n",
      "  Индекс 1 <= -1.3993975578815423\n",
      "  --> True:\n",
      "    Индекс 1 <= -1.6727874248522925\n",
      "    --> True:\n",
      "      Индекс 0 <= -1.1235801935520118\n",
      "      --> True:\n",
      "        Прогноз: 1\n",
      "      --> False:\n",
      "        Прогноз: 0\n",
      "    --> False:\n",
      "      Индекс 0 <= -0.7166853207483512\n",
      "      --> True:\n",
      "        Прогноз: 0\n",
      "      --> False:\n",
      "        Прогноз: 1\n",
      "  --> False:\n",
      "    Прогноз: 0\n",
      "--> False:\n",
      "  Индекс 1 <= -1.4358488277350174\n",
      "  --> True:\n",
      "    Прогноз: 0\n",
      "  --> False:\n",
      "    Индекс 0 <= 0.08948763365897316\n",
      "    --> True:\n",
      "      Индекс 0 <= 0.04459943514365716\n",
      "      --> True:\n",
      "        Прогноз: 1\n",
      "      --> False:\n",
      "        Прогноз: 1\n",
      "    --> False:\n",
      "      Индекс 1 <= -0.9251236805149236\n",
      "      --> True:\n",
      "        Прогноз: 1\n",
      "      --> False:\n",
      "        Прогноз: 1\n"
     ]
    }
   ],
   "source": [
    "# Напечатаем ход нашего дерева\n",
    "def print_tree(node, spacing=\"\"):\n",
    "\n",
    "    # Если лист, то выводим его прогноз\n",
    "    if isinstance(node, Leaf):\n",
    "        print(spacing + \"Прогноз:\", node.prediction)\n",
    "        return\n",
    "\n",
    "    # Выведем значение индекса и порога на этом узле\n",
    "    print(spacing + 'Индекс', str(node.index), '<=', str(node.t))\n",
    "\n",
    "    # Рекурсионный вызов функции на положительном поддереве\n",
    "    print(spacing + '--> True:')\n",
    "    print_tree(node.true_branch, spacing + \"  \")\n",
    "\n",
    "    # Рекурсионный вызов функции на отрицательном поддереве\n",
    "    print(spacing + '--> False:')\n",
    "    print_tree(node.false_branch, spacing + \"  \")\n",
    "    \n",
    "print_tree(my_tree)"
   ]
  },
  {
   "cell_type": "code",
   "execution_count": 157,
   "metadata": {
    "id": "CyvzFQp3abYI"
   },
   "outputs": [],
   "source": [
    "# Получим ответы для обучающей выборки \n",
    "train_answers = predict(train_data, my_tree)"
   ]
  },
  {
   "cell_type": "code",
   "execution_count": 158,
   "metadata": {
    "id": "Rl6IyN8yabYN"
   },
   "outputs": [],
   "source": [
    "# И получим ответы для тестовой выборки\n",
    "answers = predict(test_data, my_tree)"
   ]
  },
  {
   "cell_type": "code",
   "execution_count": 159,
   "metadata": {
    "id": "2odXAe7vabYP"
   },
   "outputs": [],
   "source": [
    "# Введем функцию подсчета точности как доли правильных ответов\n",
    "def accuracy_metric(actual, predicted):\n",
    "    correct = 0\n",
    "    for i in range(len(actual)):\n",
    "        if actual[i] == predicted[i]:\n",
    "            correct += 1\n",
    "    return correct / float(len(actual)) * 100.0"
   ]
  },
  {
   "cell_type": "code",
   "execution_count": 160,
   "metadata": {
    "colab": {
     "base_uri": "https://localhost:8080/",
     "height": 35
    },
    "id": "Jn0L6r8CabYS",
    "outputId": "200858a7-20de-494e-eec5-507ff7d79ae8"
   },
   "outputs": [
    {
     "data": {
      "text/plain": [
       "96.71428571428572"
      ]
     },
     "execution_count": 160,
     "metadata": {},
     "output_type": "execute_result"
    }
   ],
   "source": [
    "# Точность на обучающей выборке\n",
    "train_accuracy = accuracy_metric(train_labels, train_answers)\n",
    "train_accuracy"
   ]
  },
  {
   "cell_type": "code",
   "execution_count": 161,
   "metadata": {
    "colab": {
     "base_uri": "https://localhost:8080/",
     "height": 35
    },
    "id": "D__eGtLRabYU",
    "outputId": "7b116cd2-da9f-4752-e28e-2dfc279d88d3"
   },
   "outputs": [
    {
     "data": {
      "text/plain": [
       "95.33333333333334"
      ]
     },
     "execution_count": 161,
     "metadata": {},
     "output_type": "execute_result"
    }
   ],
   "source": [
    "# Точность на тестовой выборке\n",
    "test_accuracy = accuracy_metric(test_labels, answers)\n",
    "test_accuracy"
   ]
  },
  {
   "cell_type": "markdown",
   "metadata": {
    "collapsed": true
   },
   "source": [
    "2. *Реализуйте дерево для задачи регрессии. Возьмите за основу дерево, реализованное в методичке, заменив механизм предсказания в листе на взятие среднего значения по выборке, и критерий Джини на дисперсию значений."
   ]
  },
  {
   "cell_type": "code",
   "execution_count": 162,
   "metadata": {},
   "outputs": [],
   "source": [
    "def mse(array):\n",
    "    mean = array.mean()\n",
    "    return np.mean((array - mean)**2)"
   ]
  },
  {
   "cell_type": "code",
   "execution_count": 163,
   "metadata": {
    "id": "6FZaieu8abXe"
   },
   "outputs": [],
   "source": [
    "# сгенерируем данные\n",
    "X, Y = make_regression(n_samples=1000, n_features=2, n_informative=2, n_targets=1, \n",
    "                                      noise=5, coef=False, random_state=2)"
   ]
  },
  {
   "cell_type": "code",
   "execution_count": 164,
   "metadata": {
    "id": "Duu45IJUabXi"
   },
   "outputs": [],
   "source": [
    "# Реализуем класс узла\n",
    "\n",
    "class Node:\n",
    "    \n",
    "    def __init__(self, index, t, true_branch, false_branch):\n",
    "        self.index = index  # индекс признака, по которому ведется сравнение с порогом в этом узле\n",
    "        self.t = t  # значение порога\n",
    "        self.true_branch = true_branch  # поддерево, удовлетворяющее условию в узле\n",
    "        self.false_branch = false_branch  # поддерево, не удовлетворяющее условию в узле\n"
   ]
  },
  {
   "cell_type": "markdown",
   "metadata": {},
   "source": [
    "Prediction теперь считаем просто как среднее в листе"
   ]
  },
  {
   "cell_type": "code",
   "execution_count": 165,
   "metadata": {
    "id": "QY8oNtakabXl"
   },
   "outputs": [],
   "source": [
    "# И класс терминального узла (листа)\n",
    "\n",
    "class Leaf:\n",
    "    \n",
    "    def __init__(self, data, labels):\n",
    "        self.data = data\n",
    "        self.labels = labels\n",
    "        self.prediction = self.predict()\n",
    "        \n",
    "    def predict(self):\n",
    "            \n",
    "        # найдем класс, количество объектов которого будет максимальным в этом листе и вернем его    \n",
    "        prediction = np.mean(self.labels)\n",
    "        return prediction        "
   ]
  },
  {
   "cell_type": "markdown",
   "metadata": {},
   "source": [
    "В приросте gini меняем на mse. MSE нужно минимизировать, значит прирост всё так же максимизировать"
   ]
  },
  {
   "cell_type": "code",
   "execution_count": 166,
   "metadata": {
    "id": "9vvLDhuRabXr"
   },
   "outputs": [],
   "source": [
    "# Расчет прироста\n",
    "\n",
    "def gain(left_labels, right_labels, root_mse):\n",
    "\n",
    "    # доля выборки, ушедшая в левое поддерево\n",
    "    p = float(left_labels.shape[0]) / (left_labels.shape[0] + right_labels.shape[0])\n",
    "    \n",
    "    return root_mse - p * mse(left_labels) - (1 - p) * mse(right_labels)"
   ]
  },
  {
   "cell_type": "code",
   "execution_count": 167,
   "metadata": {
    "id": "nhWkphi3abXt"
   },
   "outputs": [],
   "source": [
    "# Разбиение датасета в узле\n",
    "\n",
    "def split(data, labels, column_index, t):\n",
    "    \n",
    "    left = np.where(data[:, column_index] <= t)\n",
    "    right = np.where(data[:, column_index] > t)\n",
    "        \n",
    "    true_data = data[left]\n",
    "    false_data = data[right]\n",
    "    \n",
    "    true_labels = labels[left]\n",
    "    false_labels = labels[right]\n",
    "        \n",
    "    return true_data, false_data, true_labels, false_labels"
   ]
  },
  {
   "cell_type": "code",
   "execution_count": 168,
   "metadata": {
    "id": "5wi8Fbs_abXw"
   },
   "outputs": [],
   "source": [
    "# Нахождение наилучшего разбиения\n",
    "\n",
    "def find_best_split(data, labels, min_samples_leaf):\n",
    "    \n",
    "    #  обозначим минимальное количество объектов в узле\n",
    "#     min_samples_leaf = 30\n",
    "\n",
    "    root_mse = mse(labels)\n",
    "\n",
    "    best_gain = 0\n",
    "    best_t = None\n",
    "    best_index = None\n",
    "    \n",
    "    n_features = data.shape[1]\n",
    "    \n",
    "    for index in range(n_features):\n",
    "        # будем проверять только уникальные значения признака, исключая повторения\n",
    "        t_values = np.unique(data[:, index])\n",
    "        \n",
    "        for t in t_values:\n",
    "            true_data, false_data, true_labels, false_labels = split(data, labels, index, t)\n",
    "            #  пропускаем разбиения, в которых в узле остается менее 5 объектов\n",
    "            if len(true_data) < min_samples_leaf or len(false_data) < min_samples_leaf:\n",
    "                continue\n",
    "            \n",
    "            \n",
    "            current_gain = gain(true_labels, false_labels, root_mse)\n",
    "            \n",
    "            #  выбираем порог, на котором получается максимальный прирост качества\n",
    "            if current_gain > best_gain:\n",
    "                best_gain, best_t, best_index = current_gain, t, index\n",
    "\n",
    "    return best_gain, best_t, best_index"
   ]
  },
  {
   "cell_type": "code",
   "execution_count": 169,
   "metadata": {
    "id": "f1__qSXSabXy"
   },
   "outputs": [],
   "source": [
    "import time\n",
    "# Построение дерева с помощью рекурсивной функции; по дефолту - 2 листа\n",
    "\n",
    "def build_tree(data, labels, min_samples_leaf=1):\n",
    "     \n",
    "    gain, t, index = find_best_split(data, labels, min_samples_leaf)\n",
    "    \n",
    "        \n",
    "    #  Базовый случай - прекращаем рекурсию, когда нет прироста в качества\n",
    "    if gain == 0:\n",
    "        return Leaf(data, labels)\n",
    "    \n",
    "    true_data, false_data, true_labels, false_labels = split(data, labels, index, t)\n",
    "   \n",
    "    # Рекурсивно строим два поддерева\n",
    "\n",
    "    true_branch = build_tree(true_data, true_labels, min_samples_leaf=min_samples_leaf)\n",
    "    false_branch = build_tree(false_data, false_labels, min_samples_leaf=min_samples_leaf)\n",
    "\n",
    "\n",
    "    # Возвращаем класс узла со всеми поддеревьями, то есть целого дерева\n",
    "    return Node(index, t, true_branch, false_branch)"
   ]
  },
  {
   "cell_type": "code",
   "execution_count": 170,
   "metadata": {
    "id": "F7ruKazCabX3"
   },
   "outputs": [],
   "source": [
    "def predict_object(obj, node):\n",
    "\n",
    "    #  Останавливаем рекурсию, если достигли листа\n",
    "    if isinstance(node, Leaf):\n",
    "        answer = node.prediction\n",
    "        return answer\n",
    "\n",
    "    if obj[node.index] <= node.t:\n",
    "        return predict_object(obj, node.true_branch)\n",
    "    else:\n",
    "        return predict_object(obj, node.false_branch)"
   ]
  },
  {
   "cell_type": "code",
   "execution_count": 171,
   "metadata": {
    "id": "SLOdTAqdabX7"
   },
   "outputs": [],
   "source": [
    "def predict(data, tree):\n",
    "    \n",
    "    predictions = []\n",
    "    for obj in data:\n",
    "        prediction = predict_object(obj, tree)\n",
    "        predictions.append(prediction)\n",
    "    return predictions"
   ]
  },
  {
   "cell_type": "code",
   "execution_count": 172,
   "metadata": {
    "id": "wnDPkwVJabYA"
   },
   "outputs": [],
   "source": [
    "# Разобьем выборку на обучающую и тестовую\n",
    "\n",
    "from sklearn.model_selection import train_test_split\n",
    "\n",
    "train_data, test_data, train_labels, test_labels = train_test_split(X, Y,\n",
    "                                                                    test_size=0.3,\n",
    "                                                                    random_state=26)"
   ]
  },
  {
   "cell_type": "code",
   "execution_count": 173,
   "metadata": {
    "id": "UbbvkqvOabYD"
   },
   "outputs": [],
   "source": [
    "# Построим дерево по обучающей выборке\n",
    "my_tree = build_tree(train_data, train_labels, min_samples_leaf=4)"
   ]
  },
  {
   "cell_type": "code",
   "execution_count": 174,
   "metadata": {
    "colab": {
     "base_uri": "https://localhost:8080/",
     "height": 311
    },
    "id": "GF1rVs9VabYG",
    "outputId": "2f7d40ba-e20d-4b45-c7c5-9d4d15cba329"
   },
   "outputs": [
    {
     "name": "stdout",
     "output_type": "stream",
     "text": [
      "Индекс 1 <= 0.2873168880922344\n",
      "--> True:\n",
      "  Индекс 0 <= 0.132924055186507\n",
      "  --> True:\n",
      "    Индекс 1 <= -1.1645267994987059\n",
      "    --> True:\n",
      "      Индекс 0 <= -1.1981403783170779\n",
      "      --> True:\n",
      "        Индекс 0 <= -2.2273412922974627\n",
      "        --> True:\n",
      "          Прогноз: -283.9515494035197\n",
      "        --> False:\n",
      "          Индекс 1 <= -1.5466746112644163\n",
      "          --> True:\n",
      "            Прогноз: -228.6007206595487\n",
      "          --> False:\n",
      "            Прогноз: -197.24143469809172\n",
      "      --> False:\n",
      "        Индекс 1 <= -1.7934355851948631\n",
      "        --> True:\n",
      "          Индекс 0 <= -0.4151419697731788\n",
      "          --> True:\n",
      "            Индекс 1 <= -2.1686184989032724\n",
      "            --> True:\n",
      "              Прогноз: -209.89766241295808\n",
      "            --> False:\n",
      "              Прогноз: -176.30139535209867\n",
      "          --> False:\n",
      "            Прогноз: -159.61504321699047\n",
      "        --> False:\n",
      "          Индекс 0 <= -0.5007914895154542\n",
      "          --> True:\n",
      "            Индекс 1 <= -1.4745636660271912\n",
      "            --> True:\n",
      "              Прогноз: -156.2491122903586\n",
      "            --> False:\n",
      "              Прогноз: -138.86329617822437\n",
      "          --> False:\n",
      "            Индекс 0 <= -0.07663956399736893\n",
      "            --> True:\n",
      "              Индекс 0 <= -0.2766663633760728\n",
      "              --> True:\n",
      "                Прогноз: -115.47665592018413\n",
      "              --> False:\n",
      "                Прогноз: -109.650131682877\n",
      "            --> False:\n",
      "              Прогноз: -98.57557490932425\n",
      "    --> False:\n",
      "      Индекс 0 <= -0.5898086834155772\n",
      "      --> True:\n",
      "        Индекс 1 <= -0.2112726914290075\n",
      "        --> True:\n",
      "          Индекс 0 <= -1.5500360326200981\n",
      "          --> True:\n",
      "            Индекс 1 <= -0.6437449001568133\n",
      "            --> True:\n",
      "              Прогноз: -165.78057329333566\n",
      "            --> False:\n",
      "              Прогноз: -143.7873914304668\n",
      "          --> False:\n",
      "            Индекс 1 <= -0.5301394082656447\n",
      "            --> True:\n",
      "              Индекс 0 <= -0.8989854910729287\n",
      "              --> True:\n",
      "                Индекс 1 <= -0.8484144574350586\n",
      "                --> True:\n",
      "                  Прогноз: -136.9635714123379\n",
      "                --> False:\n",
      "                  Индекс 0 <= -1.256572818413833\n",
      "                  --> True:\n",
      "                    Прогноз: -125.07482754219788\n",
      "                  --> False:\n",
      "                    Прогноз: -112.85156437567392\n",
      "              --> False:\n",
      "                Индекс 1 <= -0.9639652133297858\n",
      "                --> True:\n",
      "                  Прогноз: -119.33793825183989\n",
      "                --> False:\n",
      "                  Прогноз: -104.81599554381425\n",
      "            --> False:\n",
      "              Индекс 0 <= -1.2547203071128548\n",
      "              --> True:\n",
      "                Прогноз: -109.51198313339094\n",
      "              --> False:\n",
      "                Индекс 0 <= -0.9496888805197257\n",
      "                --> True:\n",
      "                  Прогноз: -86.18845156434803\n",
      "                --> False:\n",
      "                  Прогноз: -75.75088678123582\n",
      "        --> False:\n",
      "          Индекс 0 <= -1.6405602248048416\n",
      "          --> True:\n",
      "            Индекс 1 <= 0.09949926532119927\n",
      "            --> True:\n",
      "              Прогноз: -123.47767326885446\n",
      "            --> False:\n",
      "              Прогноз: -100.77568641896855\n",
      "          --> False:\n",
      "            Индекс 0 <= -0.9338306614168933\n",
      "            --> True:\n",
      "              Индекс 1 <= -0.06997780868904459\n",
      "              --> True:\n",
      "                Прогноз: -78.26497428600673\n",
      "              --> False:\n",
      "                Индекс 0 <= -1.231664490693115\n",
      "                --> True:\n",
      "                  Индекс 1 <= 0.19578299356298853\n",
      "                  --> True:\n",
      "                    Прогноз: -72.60328085652057\n",
      "                  --> False:\n",
      "                    Прогноз: -71.00618494676165\n",
      "                --> False:\n",
      "                  Индекс 1 <= 0.04153939299840346\n",
      "                  --> True:\n",
      "                    Прогноз: -67.43782806391957\n",
      "                  --> False:\n",
      "                    Прогноз: -58.03615059172642\n",
      "            --> False:\n",
      "              Индекс 1 <= 0.1318332028441092\n",
      "              --> True:\n",
      "                Индекс 0 <= -0.7941779636336767\n",
      "                --> True:\n",
      "                  Прогноз: -50.58865081555948\n",
      "                --> False:\n",
      "                  Прогноз: -51.89723129506218\n",
      "              --> False:\n",
      "                Прогноз: -29.192975977586972\n",
      "      --> False:\n",
      "        Индекс 1 <= -0.6634187459539974\n",
      "        --> True:\n",
      "          Индекс 0 <= -0.06168653545336215\n",
      "          --> True:\n",
      "            Индекс 0 <= -0.4265224708552696\n",
      "            --> True:\n",
      "              Прогноз: -95.03765256131734\n",
      "            --> False:\n",
      "              Индекс 1 <= -1.0644030565082547\n",
      "              --> True:\n",
      "                Прогноз: -87.14728969004042\n",
      "              --> False:\n",
      "                Индекс 0 <= -0.2265238257290055\n",
      "                --> True:\n",
      "                  Прогноз: -78.42094313330794\n",
      "                --> False:\n",
      "                  Прогноз: -73.50801726652638\n",
      "          --> False:\n",
      "            Прогноз: -53.55509410715633\n",
      "        --> False:\n",
      "          Индекс 1 <= -0.16716877435038\n",
      "          --> True:\n",
      "            Индекс 0 <= -0.21445275025428703\n",
      "            --> True:\n",
      "              Индекс 1 <= -0.1890440514657522\n",
      "              --> True:\n",
      "                Индекс 0 <= -0.5168838937325868\n",
      "                --> True:\n",
      "                  Прогноз: -57.92601429569131\n",
      "                --> False:\n",
      "                  Индекс 1 <= -0.375520371928011\n",
      "                  --> True:\n",
      "                    Прогноз: -50.70868209295374\n",
      "                  --> False:\n",
      "                    Индекс 0 <= -0.41235523638592136\n",
      "                    --> True:\n",
      "                      Прогноз: -46.63925421916628\n",
      "                    --> False:\n",
      "                      Прогноз: -42.31543323832993\n",
      "              --> False:\n",
      "                Прогноз: -33.63048025898288\n",
      "            --> False:\n",
      "              Индекс 1 <= -0.4167578474054706\n",
      "              --> True:\n",
      "                Индекс 1 <= -0.5302427526239428\n",
      "                --> True:\n",
      "                  Прогноз: -42.424301083253106\n",
      "                --> False:\n",
      "                  Прогноз: -33.33338425941743\n",
      "              --> False:\n",
      "                Индекс 1 <= -0.2571249692243189\n",
      "                --> True:\n",
      "                  Индекс 0 <= -0.07447076289398098\n",
      "                  --> True:\n",
      "                    Прогноз: -28.347529663466098\n",
      "                  --> False:\n",
      "                    Прогноз: -26.177229228281007\n",
      "                --> False:\n",
      "                  Прогноз: -15.39319147691555\n",
      "          --> False:\n",
      "            Индекс 0 <= -0.24244060013170401\n",
      "            --> True:\n",
      "              Индекс 1 <= 0.08754734320813405\n",
      "              --> True:\n",
      "                Индекс 1 <= -0.05614307498601653\n",
      "                --> True:\n",
      "                  Прогноз: -36.60655202294914\n",
      "                --> False:\n",
      "                  Прогноз: -28.419737500456574\n",
      "              --> False:\n",
      "                Прогноз: -12.849250422329595\n",
      "            --> False:\n",
      "              Индекс 1 <= -0.052864739400423355\n",
      "              --> True:\n",
      "                Прогноз: -7.466782735793069\n",
      "              --> False:\n",
      "                Индекс 0 <= -0.07139352192301932\n",
      "                --> True:\n",
      "                  Прогноз: 3.7916903966253783\n",
      "                --> False:\n",
      "                  Прогноз: 10.80244272943964\n",
      "  --> False:\n",
      "    Индекс 1 <= -0.517934324153573\n",
      "    --> True:\n",
      "      Индекс 0 <= 0.8203710362909347\n",
      "      --> True:\n",
      "        Индекс 1 <= -1.3904871689052454\n",
      "        --> True:\n",
      "          Индекс 1 <= -1.8504039737914764\n",
      "          --> True:\n",
      "            Прогноз: -107.52038988867731\n",
      "          --> False:\n",
      "            Индекс 0 <= 0.49918435754761986\n",
      "            --> True:\n",
      "              Прогноз: -90.10970468249279\n",
      "            --> False:\n",
      "              Прогноз: -64.02665261572695\n",
      "        --> False:\n",
      "          Индекс 1 <= -1.1133013122888222\n",
      "          --> True:\n",
      "            Индекс 0 <= 0.36343397187958704\n",
      "            --> True:\n",
      "              Прогноз: -61.14119768091484\n",
      "            --> False:\n",
      "              Прогноз: -43.492867985014485\n",
      "          --> False:\n",
      "            Индекс 0 <= 0.4323957009796062\n",
      "            --> True:\n",
      "              Индекс 1 <= -0.6771006703271639\n",
      "              --> True:\n",
      "                Прогноз: -35.78976203369125\n",
      "              --> False:\n",
      "                Индекс 0 <= 0.27208987891322073\n",
      "                --> True:\n",
      "                  Прогноз: -29.433758902033443\n",
      "                --> False:\n",
      "                  Прогноз: -24.88496109513888\n",
      "            --> False:\n",
      "              Индекс 1 <= -0.9389989977388749\n",
      "              --> True:\n",
      "                Прогноз: -22.11661193756865\n",
      "              --> False:\n",
      "                Индекс 0 <= 0.5929927932633268\n",
      "                --> True:\n",
      "                  Прогноз: -8.412113974848056\n",
      "                --> False:\n",
      "                  Прогноз: -5.357137434331145\n",
      "      --> False:\n",
      "        Индекс 0 <= 1.488180592888767\n",
      "        --> True:\n",
      "          Индекс 1 <= -1.2554272183458584\n",
      "          --> True:\n",
      "            Прогноз: -34.162388156189415\n",
      "          --> False:\n",
      "            Индекс 1 <= -0.9289489458270888\n",
      "            --> True:\n",
      "              Прогноз: -5.992320151209439\n",
      "            --> False:\n",
      "              Индекс 0 <= 0.8750106534750496\n",
      "              --> True:\n",
      "                Прогноз: 5.050615654306302\n",
      "              --> False:\n",
      "                Прогноз: 20.521300760795047\n",
      "        --> False:\n",
      "          Индекс 1 <= -1.7299805688177077\n",
      "          --> True:\n",
      "            Прогноз: -12.143643596136563\n",
      "          --> False:\n",
      "            Индекс 0 <= 1.5844870563956763\n",
      "            --> True:\n",
      "              Прогноз: 35.872197357138475\n",
      "            --> False:\n",
      "              Индекс 1 <= -0.8652099642166615\n",
      "              --> True:\n",
      "                Прогноз: 48.96988595023747\n",
      "              --> False:\n",
      "                Прогноз: 57.585451450173636\n",
      "    --> False:\n",
      "      Индекс 0 <= 1.104275941043664\n",
      "      --> True:\n",
      "        Индекс 1 <= -0.16396283233959474\n",
      "        --> True:\n",
      "          Индекс 0 <= 0.6153042125339241\n",
      "          --> True:\n",
      "            Индекс 0 <= 0.3432127321965482\n",
      "            --> True:\n",
      "              Индекс 0 <= 0.2757510901775246\n",
      "              --> True:\n",
      "                Прогноз: -1.3970242888801367\n",
      "              --> False:\n",
      "                Прогноз: -3.796444554648043\n",
      "            --> False:\n",
      "              Индекс 1 <= -0.32358007007652395\n",
      "              --> True:\n",
      "                Прогноз: 2.4613573385515415\n",
      "              --> False:\n",
      "                Прогноз: 13.54792468216417\n",
      "          --> False:\n",
      "            Прогноз: 33.53189327447883\n",
      "        --> False:\n",
      "          Индекс 0 <= 0.7562215649647351\n",
      "          --> True:\n",
      "            Индекс 0 <= 0.3368361362314052\n",
      "            --> True:\n",
      "              Прогноз: 21.358852142026894\n",
      "            --> False:\n",
      "              Индекс 1 <= -0.09595827005433091\n",
      "              --> True:\n",
      "                Прогноз: 29.74158290962246\n",
      "              --> False:\n",
      "                Индекс 1 <= 0.1005974098500913\n",
      "                --> True:\n",
      "                  Прогноз: 37.794122769313354\n",
      "                --> False:\n",
      "                  Индекс 1 <= 0.18040980691154634\n",
      "                  --> True:\n",
      "                    Прогноз: 40.647507828212\n",
      "                  --> False:\n",
      "                    Прогноз: 43.28636726606317\n",
      "          --> False:\n",
      "            Индекс 1 <= -0.0654096803390754\n",
      "            --> True:\n",
      "              Прогноз: 48.01094307491728\n",
      "            --> False:\n",
      "              Индекс 0 <= 0.8685132222180661\n",
      "              --> True:\n",
      "                Прогноз: 55.39193796600094\n",
      "              --> False:\n",
      "                Прогноз: 64.78212747542304\n",
      "      --> False:\n",
      "        Индекс 0 <= 2.144678089111037\n",
      "        --> True:\n",
      "          Индекс 0 <= 1.4733436471202586\n",
      "          --> True:\n",
      "            Индекс 1 <= -0.18530621098365718\n",
      "            --> True:\n",
      "              Прогноз: 63.85439008795593\n",
      "            --> False:\n",
      "              Прогноз: 83.01258436456605\n",
      "          --> False:\n",
      "            Прогноз: 99.15688970611649\n",
      "        --> False:\n",
      "          Прогноз: 146.1577086476471\n",
      "--> False:\n",
      "  Индекс 0 <= 0.14834230870626613\n",
      "  --> True:\n",
      "    Индекс 0 <= -0.67177489086531\n",
      "    --> True:\n",
      "      Индекс 1 <= 1.0249961361846132\n",
      "      --> True:\n",
      "        Индекс 0 <= -1.2452880866072316\n",
      "        --> True:\n",
      "          Индекс 0 <= -1.8451945642949812\n",
      "          --> True:\n",
      "            Прогноз: -82.04237611815964\n",
      "          --> False:\n",
      "            Индекс 1 <= 0.550138016234395\n",
      "            --> True:\n",
      "              Прогноз: -59.924786895907445\n",
      "            --> False:\n",
      "              Прогноз: -46.059561489551676\n",
      "        --> False:\n",
      "          Индекс 1 <= 0.3345956986031069\n",
      "          --> True:\n",
      "            Прогноз: -30.568039322514135\n",
      "          --> False:\n",
      "            Индекс 0 <= -0.9317137468665752\n",
      "            --> True:\n",
      "              Индекс 1 <= 0.7459047874847915\n",
      "              --> True:\n",
      "                Прогноз: -22.693529844776485\n",
      "              --> False:\n",
      "                Прогноз: -11.866503688470077\n",
      "            --> False:\n",
      "              Индекс 1 <= 0.5178361568743584\n",
      "              --> True:\n",
      "                Прогноз: -11.774831333040819\n",
      "              --> False:\n",
      "                Прогноз: 4.63294837273457\n",
      "      --> False:\n",
      "        Индекс 0 <= -1.4978398055076185\n",
      "        --> True:\n",
      "          Индекс 1 <= 1.3638252897418415\n",
      "          --> True:\n",
      "            Прогноз: -27.712442378965005\n",
      "          --> False:\n",
      "            Прогноз: -4.301025207638382\n",
      "        --> False:\n",
      "          Индекс 1 <= 1.4511698997815163\n",
      "          --> True:\n",
      "            Индекс 1 <= 1.248450298019977\n",
      "            --> True:\n",
      "              Индекс 0 <= -0.9437258828246979\n",
      "              --> True:\n",
      "                Прогноз: 19.585483098337196\n",
      "              --> False:\n",
      "                Прогноз: 26.394608048595572\n",
      "            --> False:\n",
      "              Прогноз: 39.94198637842889\n",
      "          --> False:\n",
      "            Прогноз: 69.57272207810863\n",
      "    --> False:\n",
      "      Индекс 1 <= 1.110645280314125\n",
      "      --> True:\n",
      "        Индекс 1 <= 0.5710335188840954\n",
      "        --> True:\n",
      "          Индекс 0 <= -0.3067098110738141\n",
      "          --> True:\n",
      "            Индекс 0 <= -0.5025018078206891\n",
      "            --> True:\n",
      "              Прогноз: -6.105173539925656\n",
      "            --> False:\n",
      "              Индекс 1 <= 0.44512688150507185\n",
      "              --> True:\n",
      "                Прогноз: 3.23779664118058\n",
      "              --> False:\n",
      "                Прогноз: 13.92560759605125\n",
      "          --> False:\n",
      "            Индекс 0 <= -0.006827494162580527\n",
      "            --> True:\n",
      "              Индекс 1 <= 0.4554298609847236\n",
      "              --> True:\n",
      "                Индекс 0 <= -0.10291825549878102\n",
      "                --> True:\n",
      "                  Прогноз: 23.397447935049833\n",
      "                --> False:\n",
      "                  Прогноз: 24.27807068645309\n",
      "              --> False:\n",
      "                Прогноз: 31.238119041496038\n",
      "            --> False:\n",
      "              Индекс 1 <= 0.40207927197532023\n",
      "              --> True:\n",
      "                Прогноз: 29.05886999524332\n",
      "              --> False:\n",
      "                Прогноз: 36.42148961335029\n",
      "        --> False:\n",
      "          Индекс 0 <= 0.003659490714469374\n",
      "          --> True:\n",
      "            Индекс 0 <= -0.40706304681381245\n",
      "            --> True:\n",
      "              Прогноз: 24.983329933451518\n",
      "            --> False:\n",
      "              Индекс 1 <= 0.7253532593570585\n",
      "              --> True:\n",
      "                Индекс 0 <= -0.1591265651859938\n",
      "                --> True:\n",
      "                  Прогноз: 26.958240300855895\n",
      "                --> False:\n",
      "                  Прогноз: 36.704382366548714\n",
      "              --> False:\n",
      "                Индекс 1 <= 0.8144972376414036\n",
      "                --> True:\n",
      "                  Прогноз: 41.15881730039298\n",
      "                --> False:\n",
      "                  Индекс 0 <= -0.3378536925278026\n",
      "                  --> True:\n",
      "                    Прогноз: 46.10249398171871\n",
      "                  --> False:\n",
      "                    Прогноз: 50.776485997963434\n",
      "          --> False:\n",
      "            Прогноз: 59.46181051069459\n",
      "      --> False:\n",
      "        Индекс 1 <= 1.792592852398284\n",
      "        --> True:\n",
      "          Индекс 0 <= -0.508924537162201\n",
      "          --> True:\n",
      "            Прогноз: 53.98720750833383\n",
      "          --> False:\n",
      "            Индекс 1 <= 1.1895281369043331\n",
      "            --> True:\n",
      "              Прогноз: 73.66446509906743\n",
      "            --> False:\n",
      "              Индекс 1 <= 1.4049878715977444\n",
      "              --> True:\n",
      "                Прогноз: 78.93329929725114\n",
      "              --> False:\n",
      "                Прогноз: 83.14710155347595\n",
      "        --> False:\n",
      "          Индекс 1 <= 2.0793766512365606\n",
      "          --> True:\n",
      "            Прогноз: 111.94448004670296\n",
      "          --> False:\n",
      "            Прогноз: 134.25557152247563\n",
      "  --> False:\n",
      "    Индекс 1 <= 1.624625627593815\n",
      "    --> True:\n",
      "      Индекс 0 <= 0.8694210135895347\n",
      "      --> True:\n",
      "        Индекс 1 <= 0.8843589988951195\n",
      "        --> True:\n",
      "          Индекс 0 <= 0.4514339549025637\n",
      "          --> True:\n",
      "            Индекс 1 <= 0.5168956740966381\n",
      "            --> True:\n",
      "              Прогноз: 46.58124187961718\n",
      "            --> False:\n",
      "              Индекс 1 <= 0.7861460698232878\n",
      "              --> True:\n",
      "                Прогноз: 60.75068623028908\n",
      "              --> False:\n",
      "                Прогноз: 68.29606502783616\n",
      "          --> False:\n",
      "            Индекс 1 <= 0.4182664107878549\n",
      "            --> True:\n",
      "              Индекс 0 <= 0.7044508850090327\n",
      "              --> True:\n",
      "                Прогноз: 66.09502330823688\n",
      "              --> False:\n",
      "                Прогноз: 72.8000521305938\n",
      "            --> False:\n",
      "              Индекс 1 <= 0.6961979796114306\n",
      "              --> True:\n",
      "                Прогноз: 84.81176076742669\n",
      "              --> False:\n",
      "                Прогноз: 95.4443789751871\n",
      "        --> False:\n",
      "          Индекс 0 <= 0.6126774913655503\n",
      "          --> True:\n",
      "            Индекс 1 <= 1.048388658412122\n",
      "            --> True:\n",
      "              Прогноз: 93.13986420693453\n",
      "            --> False:\n",
      "              Индекс 1 <= 1.2823651538413017\n",
      "              --> True:\n",
      "                Прогноз: 104.70397535498478\n",
      "              --> False:\n",
      "                Прогноз: 110.02431293574784\n",
      "          --> False:\n",
      "            Индекс 1 <= 1.057634570430107\n",
      "            --> True:\n",
      "              Прогноз: 115.71589912342532\n",
      "            --> False:\n",
      "              Прогноз: 148.42828522810086\n",
      "      --> False:\n",
      "        Индекс 0 <= 1.5523346151134727\n",
      "        --> True:\n",
      "          Индекс 1 <= 0.8511838935027901\n",
      "          --> True:\n",
      "            Индекс 0 <= 1.0623193136898084\n",
      "            --> True:\n",
      "              Прогноз: 109.10386306001882\n",
      "            --> False:\n",
      "              Индекс 1 <= 0.49403587093525686\n",
      "              --> True:\n",
      "                Прогноз: 118.21581525912954\n",
      "              --> False:\n",
      "                Прогноз: 130.52723246929102\n",
      "          --> False:\n",
      "            Индекс 1 <= 1.0858064040220967\n",
      "            --> True:\n",
      "              Прогноз: 143.14930005811607\n",
      "            --> False:\n",
      "              Прогноз: 160.05932332658261\n",
      "        --> False:\n",
      "          Индекс 1 <= 0.5000229613119415\n",
      "          --> True:\n",
      "            Прогноз: 152.29560630344744\n",
      "          --> False:\n",
      "            Прогноз: 184.81134618260452\n",
      "    --> False:\n",
      "      Индекс 1 <= 2.0752273297070216\n",
      "      --> True:\n",
      "        Индекс 0 <= 1.0887706332580314\n",
      "        --> True:\n",
      "          Прогноз: 177.02034811697152\n",
      "        --> False:\n",
      "          Прогноз: 213.41359191705314\n",
      "      --> False:\n",
      "        Прогноз: 264.2670240437449\n"
     ]
    }
   ],
   "source": [
    "# Напечатаем ход нашего дерева\n",
    "def print_tree(node, spacing=\"\"):\n",
    "\n",
    "    # Если лист, то выводим его прогноз\n",
    "    if isinstance(node, Leaf):\n",
    "        print(spacing + \"Прогноз:\", node.prediction)\n",
    "        return\n",
    "\n",
    "    # Выведем значение индекса и порога на этом узле\n",
    "    print(spacing + 'Индекс', str(node.index), '<=', str(node.t))\n",
    "\n",
    "    # Рекурсионный вызов функции на положительном поддереве\n",
    "    print(spacing + '--> True:')\n",
    "    print_tree(node.true_branch, spacing + \"  \")\n",
    "\n",
    "    # Рекурсионный вызов функции на отрицательном поддереве\n",
    "    print(spacing + '--> False:')\n",
    "    print_tree(node.false_branch, spacing + \"  \")\n",
    "    \n",
    "print_tree(my_tree)"
   ]
  },
  {
   "cell_type": "code",
   "execution_count": 175,
   "metadata": {
    "id": "CyvzFQp3abYI"
   },
   "outputs": [],
   "source": [
    "# Получим ответы для обучающей выборки \n",
    "train_answers = predict(train_data, my_tree)"
   ]
  },
  {
   "cell_type": "code",
   "execution_count": 176,
   "metadata": {
    "id": "Rl6IyN8yabYN"
   },
   "outputs": [],
   "source": [
    "# И получим ответы для тестовой выборки\n",
    "answers = predict(test_data, my_tree)"
   ]
  },
  {
   "cell_type": "markdown",
   "metadata": {},
   "source": [
    "Точность модели будем оценивать по MSE"
   ]
  },
  {
   "cell_type": "code",
   "execution_count": 177,
   "metadata": {
    "id": "2odXAe7vabYP"
   },
   "outputs": [],
   "source": [
    "# Введем функцию подсчета точности как доли правильных ответов\n",
    "def mse_metric(actual, predicted):\n",
    "    mse = sum((actual-predicted)**2)/len(actual)\n",
    "    return mse"
   ]
  },
  {
   "cell_type": "code",
   "execution_count": 178,
   "metadata": {
    "colab": {
     "base_uri": "https://localhost:8080/",
     "height": 35
    },
    "id": "Jn0L6r8CabYS",
    "outputId": "200858a7-20de-494e-eec5-507ff7d79ae8"
   },
   "outputs": [
    {
     "data": {
      "text/plain": [
       "97.68866907901717"
      ]
     },
     "execution_count": 178,
     "metadata": {},
     "output_type": "execute_result"
    }
   ],
   "source": [
    "# Точность на обучающей выборке\n",
    "train_mse = mse_metric(train_labels, train_answers)\n",
    "train_mse"
   ]
  },
  {
   "cell_type": "code",
   "execution_count": 179,
   "metadata": {},
   "outputs": [
    {
     "data": {
      "text/plain": [
       "273.5851401280901"
      ]
     },
     "execution_count": 179,
     "metadata": {},
     "output_type": "execute_result"
    }
   ],
   "source": [
    "# Точность на обучающей выборке\n",
    "test_mse = mse_metric(test_labels, answers)\n",
    "test_mse"
   ]
  },
  {
   "cell_type": "markdown",
   "metadata": {},
   "source": [
    "Достаточно переобученная модель получилось. Надо бы ввести ограничений"
   ]
  }
 ],
 "metadata": {
  "colab": {
   "collapsed_sections": [],
   "name": "Lesson_4.ipynb",
   "provenance": []
  },
  "kernelspec": {
   "display_name": "Python 3 (ipykernel)",
   "language": "python",
   "name": "python3"
  },
  "language_info": {
   "codemirror_mode": {
    "name": "ipython",
    "version": 3
   },
   "file_extension": ".py",
   "mimetype": "text/x-python",
   "name": "python",
   "nbconvert_exporter": "python",
   "pygments_lexer": "ipython3",
   "version": "3.9.6"
  }
 },
 "nbformat": 4,
 "nbformat_minor": 1
}
