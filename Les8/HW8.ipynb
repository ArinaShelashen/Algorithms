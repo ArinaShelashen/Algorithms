{
 "cells": [
  {
   "cell_type": "markdown",
   "id": "a4dbe700",
   "metadata": {},
   "source": [
    "**1.Обучите любую модель классификации на датасете IRIS до применения PCA и после него. Сравните качество классификации по отложенной выборке.**"
   ]
  },
  {
   "cell_type": "code",
   "execution_count": 382,
   "id": "3bb76b68",
   "metadata": {},
   "outputs": [],
   "source": [
    "import numpy as np\n",
    "from sklearn import datasets\n",
    "import matplotlib.pyplot as plt\n",
    "from sklearn.preprocessing import StandardScaler\n",
    "from sklearn.ensemble import RandomForestClassifier\n",
    "from sklearn.tree import DecisionTreeClassifier\n",
    "from sklearn.neighbors import KNeighborsClassifier\n",
    "from sklearn.model_selection import train_test_split\n",
    "from sklearn.metrics import classification_report"
   ]
  },
  {
   "cell_type": "code",
   "execution_count": 383,
   "id": "cf27f794",
   "metadata": {},
   "outputs": [
    {
     "data": {
      "text/plain": [
       "((150,), (150, 4))"
      ]
     },
     "execution_count": 383,
     "metadata": {},
     "output_type": "execute_result"
    }
   ],
   "source": [
    "iris = datasets.load_iris()\n",
    "X = iris.data\n",
    "y = iris.target\n",
    "y.shape, X.shape"
   ]
  },
  {
   "cell_type": "code",
   "execution_count": 384,
   "id": "7f6e7f2e",
   "metadata": {},
   "outputs": [],
   "source": [
    "def standard_scale(x):\n",
    "    res = (x - x.mean(axis=0)) / x.std(axis=0)\n",
    "    return res"
   ]
  },
  {
   "cell_type": "code",
   "execution_count": 385,
   "id": "b1e5260b",
   "metadata": {},
   "outputs": [],
   "source": [
    "X = standard_scale(X)"
   ]
  },
  {
   "cell_type": "code",
   "execution_count": 386,
   "id": "8b86b4ed",
   "metadata": {},
   "outputs": [
    {
     "data": {
      "text/plain": [
       "((105, 4), (105,), (45, 4), (45,))"
      ]
     },
     "execution_count": 386,
     "metadata": {},
     "output_type": "execute_result"
    }
   ],
   "source": [
    "X_train, X_test, y_train, y_test = train_test_split(X, y, random_state=26, test_size=0.3)\n",
    "X_train.shape, y_train.shape, X_test.shape, y_test.shape"
   ]
  },
  {
   "cell_type": "code",
   "execution_count": 387,
   "id": "5009b6ff",
   "metadata": {},
   "outputs": [],
   "source": [
    "model = RandomForestClassifier(random_state=26)"
   ]
  },
  {
   "cell_type": "code",
   "execution_count": 388,
   "id": "1714c3ea",
   "metadata": {},
   "outputs": [
    {
     "name": "stdout",
     "output_type": "stream",
     "text": [
      "CPU times: total: 219 ms\n",
      "Wall time: 299 ms\n"
     ]
    }
   ],
   "source": [
    "%%time\n",
    "model.fit(X_train, y_train)\n",
    "y_pred = model.predict(X_test)"
   ]
  },
  {
   "cell_type": "code",
   "execution_count": 389,
   "id": "40350d49",
   "metadata": {},
   "outputs": [
    {
     "name": "stdout",
     "output_type": "stream",
     "text": [
      "              precision    recall  f1-score   support\n",
      "\n",
      "           0       1.00      1.00      1.00        14\n",
      "           1       0.94      1.00      0.97        15\n",
      "           2       1.00      0.94      0.97        16\n",
      "\n",
      "    accuracy                           0.98        45\n",
      "   macro avg       0.98      0.98      0.98        45\n",
      "weighted avg       0.98      0.98      0.98        45\n",
      "\n"
     ]
    }
   ],
   "source": [
    "print(classification_report(y_test, y_pred))"
   ]
  },
  {
   "cell_type": "code",
   "execution_count": 390,
   "id": "0cb05281",
   "metadata": {},
   "outputs": [
    {
     "data": {
      "text/plain": [
       "((105, 2), (45, 2))"
      ]
     },
     "execution_count": 390,
     "metadata": {},
     "output_type": "execute_result"
    }
   ],
   "source": [
    "# Получаем матрицу ковариации\n",
    "covariance_matrix = X_train.T @ X_train\n",
    "\n",
    "#Получаем собственные значения и собственные вектора\n",
    "eig_values, eig_vectors = np.linalg.eig(covariance_matrix)\n",
    "\n",
    "#Возьмём первые 2 из собственных векторов, это будут наши веса\n",
    "W = np.hstack([eig_vectors.T[i].reshape(4,1) for i in range(2)])\n",
    "\n",
    "#Снизим размерность матриц с помощью полученных весов\n",
    "X_train_reduced = X_train.dot(W)\n",
    "X_test_reduced = X_test.dot(W)\n",
    "X_train_reduced.shape, X_test_reduced.shape"
   ]
  },
  {
   "cell_type": "code",
   "execution_count": 391,
   "id": "9d08278a",
   "metadata": {},
   "outputs": [
    {
     "name": "stdout",
     "output_type": "stream",
     "text": [
      "CPU times: total: 203 ms\n",
      "Wall time: 265 ms\n"
     ]
    }
   ],
   "source": [
    "%%time\n",
    "model.fit(X_train_reduced, y_train)\n",
    "y_pred_reduced = model.predict(X_test_reduced)"
   ]
  },
  {
   "cell_type": "code",
   "execution_count": 392,
   "id": "bbfb96fd",
   "metadata": {},
   "outputs": [
    {
     "name": "stdout",
     "output_type": "stream",
     "text": [
      "              precision    recall  f1-score   support\n",
      "\n",
      "           0       1.00      1.00      1.00        14\n",
      "           1       0.82      0.93      0.87        15\n",
      "           2       0.93      0.81      0.87        16\n",
      "\n",
      "    accuracy                           0.91        45\n",
      "   macro avg       0.92      0.92      0.91        45\n",
      "weighted avg       0.92      0.91      0.91        45\n",
      "\n"
     ]
    }
   ],
   "source": [
    "print(classification_report(y_test, y_pred_reduced))"
   ]
  },
  {
   "cell_type": "code",
   "execution_count": 393,
   "id": "86b034dc",
   "metadata": {
    "scrolled": true
   },
   "outputs": [
    {
     "data": {
      "text/plain": [
       "((105, 2), (45, 2))"
      ]
     },
     "execution_count": 393,
     "metadata": {},
     "output_type": "execute_result"
    }
   ],
   "source": [
    "#Сравним со встроенным РСА\n",
    "\n",
    "from sklearn.decomposition import PCA\n",
    "pca = PCA(n_components=2)\n",
    "X_train_reduced = pca.fit_transform(X_train)\n",
    "X_test_reduced = pca.transform(X_test)\n",
    "X_train_reduced.shape, X_test_reduced.shape"
   ]
  },
  {
   "cell_type": "code",
   "execution_count": 394,
   "id": "d7686ca8",
   "metadata": {},
   "outputs": [
    {
     "name": "stdout",
     "output_type": "stream",
     "text": [
      "CPU times: total: 281 ms\n",
      "Wall time: 371 ms\n"
     ]
    }
   ],
   "source": [
    "%%time\n",
    "model.fit(X_train_reduced, y_train)\n",
    "y_pred_reduced = model.predict(X_test_reduced)"
   ]
  },
  {
   "cell_type": "code",
   "execution_count": 395,
   "id": "161581ff",
   "metadata": {},
   "outputs": [
    {
     "name": "stdout",
     "output_type": "stream",
     "text": [
      "              precision    recall  f1-score   support\n",
      "\n",
      "           0       1.00      1.00      1.00        14\n",
      "           1       0.82      0.93      0.87        15\n",
      "           2       0.93      0.81      0.87        16\n",
      "\n",
      "    accuracy                           0.91        45\n",
      "   macro avg       0.92      0.92      0.91        45\n",
      "weighted avg       0.92      0.91      0.91        45\n",
      "\n"
     ]
    }
   ],
   "source": [
    "print(classification_report(y_test, y_pred_reduced))"
   ]
  },
  {
   "cell_type": "markdown",
   "id": "3fe4c0e3",
   "metadata": {},
   "source": [
    "**Метрики закономерно упали, всё-таки 4 признака заменили всего 1. Однако упали не критично, минимальное значение из всех-всех 0.81 (было 0.94), в то время как время обучения и предсказания удалось снизить за счёт сокращения кол-ва признаков. F1 мера осталась на достойном уровне**"
   ]
  },
  {
   "cell_type": "markdown",
   "id": "a81a8378",
   "metadata": {},
   "source": [
    "### Задание 2\n",
    "**Напишите свою реализацию метода главных компонент посредством сингулярного разложения с использованием функции numpy.linalg.svd().**"
   ]
  },
  {
   "cell_type": "code",
   "execution_count": 396,
   "id": "1a2dbe47",
   "metadata": {},
   "outputs": [],
   "source": [
    "# Функция для получения матрицы весов\n",
    "\n",
    "def svd_weights(X, num=2):\n",
    "    #Находим сингулярное разложение матрицы\n",
    "    u, s, vh = np.linalg.svd(X, full_matrices=True)\n",
    "    # vh - собственные векторы, как раз необходимые нам для получения весов\n",
    "    \n",
    "    #Формируем матрицу весов из стобцов матрицы V\n",
    "    W_svd = np.hstack([vh[i].reshape(X.shape[1],1) for i in range(num)])\n",
    "    return W_svd\n",
    "\n",
    "\n",
    "# Функция для снижения размерности (получения новой матрицы объекты-признаки)\n",
    "def svd_reduce(X, weights):\n",
    "    X_reduced = X.dot(weights)\n",
    "    return X_reduced"
   ]
  },
  {
   "cell_type": "code",
   "execution_count": 397,
   "id": "0f3bd4a7",
   "metadata": {},
   "outputs": [
    {
     "data": {
      "text/plain": [
       "((105, 2), (45, 2))"
      ]
     },
     "execution_count": 397,
     "metadata": {},
     "output_type": "execute_result"
    }
   ],
   "source": [
    "#Получаем веса на обучающей выборке\n",
    "weights = svd_weights(X_train, num = 2) \n",
    "#Сокращаем размерности матриц обучающей и тестовой\n",
    "X_train_svd_reduced = svd_reduce(X_train, weights)\n",
    "X_test_svd_reduced = svd_reduce(X_test, weights)\n",
    "X_train_svd_reduced.shape, X_test_svd_reduced.shape"
   ]
  },
  {
   "cell_type": "code",
   "execution_count": 398,
   "id": "ba397e00",
   "metadata": {},
   "outputs": [
    {
     "name": "stdout",
     "output_type": "stream",
     "text": [
      "CPU times: total: 672 ms\n",
      "Wall time: 302 ms\n"
     ]
    }
   ],
   "source": [
    "%%time\n",
    "model.fit(X_train_svd_reduced, y_train)\n",
    "y_pred_svd_reduced = model.predict(X_test_svd_reduced)"
   ]
  },
  {
   "cell_type": "code",
   "execution_count": 399,
   "id": "e08fd277",
   "metadata": {},
   "outputs": [
    {
     "name": "stdout",
     "output_type": "stream",
     "text": [
      "              precision    recall  f1-score   support\n",
      "\n",
      "           0       1.00      1.00      1.00        14\n",
      "           1       0.82      0.93      0.87        15\n",
      "           2       0.93      0.81      0.87        16\n",
      "\n",
      "    accuracy                           0.91        45\n",
      "   macro avg       0.92      0.92      0.91        45\n",
      "weighted avg       0.92      0.91      0.91        45\n",
      "\n"
     ]
    }
   ],
   "source": [
    "print(classification_report(y_test, y_pred_svd_reduced))"
   ]
  },
  {
   "cell_type": "markdown",
   "id": "fad4b58d",
   "metadata": {},
   "source": [
    "**Все метрики совпали с предыдущими матрицами**"
   ]
  }
 ],
 "metadata": {
  "kernelspec": {
   "display_name": "gpu2",
   "language": "python",
   "name": "gpu2"
  },
  "language_info": {
   "codemirror_mode": {
    "name": "ipython",
    "version": 3
   },
   "file_extension": ".py",
   "mimetype": "text/x-python",
   "name": "python",
   "nbconvert_exporter": "python",
   "pygments_lexer": "ipython3",
   "version": "3.9.15"
  }
 },
 "nbformat": 4,
 "nbformat_minor": 5
}
